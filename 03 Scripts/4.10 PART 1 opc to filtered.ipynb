{
 "cells": [
  {
   "cell_type": "markdown",
   "id": "3e5ef237-9dd5-4683-ba44-7f5b481be8d3",
   "metadata": {},
   "source": [
    "# DETERMINE SPENDER TYPES PER REGION"
   ]
  },
  {
   "cell_type": "markdown",
   "id": "6512f558-c273-43a0-b1dd-5909e4a3dbcf",
   "metadata": {},
   "source": [
    "## CONTENTS:\n",
    "1. Import libraries and data set.\n",
    "2. Mapping of states to regions.\n",
    "3. Export file with mapping to be used in visualizations."
   ]
  },
  {
   "cell_type": "markdown",
   "id": "58c22f40-e6bc-4f06-a972-fc98fddc85cb",
   "metadata": {},
   "source": [
    "### 1. Import libraries and data set."
   ]
  },
  {
   "cell_type": "code",
   "execution_count": null,
   "id": "bd2084ac-a3b8-409b-a6f9-eafda127ea2a",
   "metadata": {},
   "outputs": [],
   "source": [
    "# Import libraries and file. Check file. \n",
    "# Mapping of states to regions.\n",
    "# Export file with mapping to be used in visualizations."
   ]
  },
  {
   "cell_type": "code",
   "execution_count": 1,
   "id": "3ecaeefd-808d-42ef-a973-2d20028e02f2",
   "metadata": {},
   "outputs": [],
   "source": [
    "# Import libraries, the last three for data visualizations\n",
    "import pandas as pd\n",
    "import numpy as np\n",
    "import os\n",
    "import matplotlib.pyplot as plt\n",
    "import seaborn as sns\n",
    "import scipy"
   ]
  },
  {
   "cell_type": "code",
   "execution_count": 2,
   "id": "74ae8ed2-fa5d-4132-ad8c-7f65fa1b8fb2",
   "metadata": {},
   "outputs": [],
   "source": [
    "# define path\n",
    "path = r'C:\\Users\\Administrator\\Documents\\data analytics\\Instacart Basket Analysis\\02 Data\\Prepared data'"
   ]
  },
  {
   "cell_type": "code",
   "execution_count": 3,
   "id": "a6933a3a-0c06-4f81-a59d-facdf0305395",
   "metadata": {},
   "outputs": [],
   "source": [
    "# import ords_prods_custs. I call it opc to have a short name.\n",
    "opc = pd.read_pickle(os.path.join(path, 'ords_prods_custs.pkl'))"
   ]
  },
  {
   "cell_type": "code",
   "execution_count": 4,
   "id": "c89bbafd-c80d-4d81-99f5-bd1dd7f4d9d9",
   "metadata": {},
   "outputs": [
    {
     "data": {
      "text/plain": [
       "(32641268, 31)"
      ]
     },
     "execution_count": 4,
     "metadata": {},
     "output_type": "execute_result"
    }
   ],
   "source": [
    "opc.shape"
   ]
  },
  {
   "cell_type": "code",
   "execution_count": 6,
   "id": "911d0d5a-edc3-484d-a94d-44d9a30f9c59",
   "metadata": {},
   "outputs": [
    {
     "data": {
      "text/plain": [
       "array(['High spender', 'Low spender'], dtype=object)"
      ]
     },
     "execution_count": 6,
     "metadata": {},
     "output_type": "execute_result"
    }
   ],
   "source": [
    "# Check what values to expect.\n",
    "opc['spending_flag'].unique()"
   ]
  },
  {
   "cell_type": "markdown",
   "id": "ec999f33-d2f1-4766-b2dd-e6f5132295fd",
   "metadata": {},
   "source": [
    "### 2. Mapping of State to Regions"
   ]
  },
  {
   "cell_type": "code",
   "execution_count": 8,
   "id": "846b15b6-58a2-4513-8152-4c6562adfc2a",
   "metadata": {},
   "outputs": [],
   "source": [
    "# Divison into regions\n",
    "northeast = ['Maine', 'New Hampshire', 'Vermont', 'Massachusetts', 'Rhode Island', \n",
    "             'Connecticut', 'New York', 'Pennsylvania', 'New Jersey']\n",
    "\n",
    "midwest = ['Wisconsin', 'Michigan', 'Illinois', 'Indiana', 'Ohio', 'North Dakota', \n",
    "           'South Dakota', 'Nebraska', 'Kansas', 'Minnesota', 'Iowa', 'Missouri']\n",
    "\n",
    "south = ['Delaware', 'Maryland', 'District of Columbia', 'Virginia', 'West Virginia', \n",
    "         'North Carolina', 'South Carolina', 'Georgia', 'Florida', 'Kentucky', \n",
    "         'Tennessee', 'Mississippi', 'Alabama', 'Oklahoma', 'Texas', 'Arkansas', \n",
    "         'Louisiana']\n",
    "\n",
    "# Create a dictionary to map each state to a region\n",
    "region_map = {state: 'Northeast' for state in northeast}\n",
    "region_map.update({state: 'Midwest' for state in midwest})\n",
    "region_map.update({state: 'South' for state in south})\n",
    "\n",
    "# Apply the mapping and assign 'West' if the state is not in the map\n",
    "opc['region'] = opc['state'].map(region_map).fillna('West')"
   ]
  },
  {
   "cell_type": "code",
   "execution_count": 10,
   "id": "daa219bd-593b-450c-8e8e-9e7f28c804e1",
   "metadata": {},
   "outputs": [
    {
     "data": {
      "text/html": [
       "<div>\n",
       "<style scoped>\n",
       "    .dataframe tbody tr th:only-of-type {\n",
       "        vertical-align: middle;\n",
       "    }\n",
       "\n",
       "    .dataframe tbody tr th {\n",
       "        vertical-align: top;\n",
       "    }\n",
       "\n",
       "    .dataframe thead th {\n",
       "        text-align: right;\n",
       "    }\n",
       "</style>\n",
       "<table border=\"1\" class=\"dataframe\">\n",
       "  <thead>\n",
       "    <tr style=\"text-align: right;\">\n",
       "      <th></th>\n",
       "      <th>order_id</th>\n",
       "      <th>user_id</th>\n",
       "      <th>order_number</th>\n",
       "      <th>orders_day_of_week</th>\n",
       "      <th>order_hour_of_day</th>\n",
       "      <th>days_since_prior_order</th>\n",
       "      <th>validation</th>\n",
       "      <th>product_id</th>\n",
       "      <th>add_to_cart_order</th>\n",
       "      <th>reordered</th>\n",
       "      <th>...</th>\n",
       "      <th>avg_price</th>\n",
       "      <th>frequency_flag</th>\n",
       "      <th>gender</th>\n",
       "      <th>state</th>\n",
       "      <th>age</th>\n",
       "      <th>date_joined</th>\n",
       "      <th>n_dependants</th>\n",
       "      <th>fam_status</th>\n",
       "      <th>income</th>\n",
       "      <th>region</th>\n",
       "    </tr>\n",
       "  </thead>\n",
       "  <tbody>\n",
       "    <tr>\n",
       "      <th>0</th>\n",
       "      <td>2539329</td>\n",
       "      <td>1</td>\n",
       "      <td>1</td>\n",
       "      <td>2</td>\n",
       "      <td>8</td>\n",
       "      <td>NaN</td>\n",
       "      <td>prior</td>\n",
       "      <td>196.0</td>\n",
       "      <td>1.0</td>\n",
       "      <td>0.0</td>\n",
       "      <td>...</td>\n",
       "      <td>5.9</td>\n",
       "      <td>NaN</td>\n",
       "      <td>Female</td>\n",
       "      <td>Alabama</td>\n",
       "      <td>31</td>\n",
       "      <td>2/17/2019</td>\n",
       "      <td>3</td>\n",
       "      <td>married</td>\n",
       "      <td>40423</td>\n",
       "      <td>South</td>\n",
       "    </tr>\n",
       "    <tr>\n",
       "      <th>1</th>\n",
       "      <td>2539329</td>\n",
       "      <td>1</td>\n",
       "      <td>1</td>\n",
       "      <td>2</td>\n",
       "      <td>8</td>\n",
       "      <td>NaN</td>\n",
       "      <td>prior</td>\n",
       "      <td>14084.0</td>\n",
       "      <td>2.0</td>\n",
       "      <td>0.0</td>\n",
       "      <td>...</td>\n",
       "      <td>5.9</td>\n",
       "      <td>NaN</td>\n",
       "      <td>Female</td>\n",
       "      <td>Alabama</td>\n",
       "      <td>31</td>\n",
       "      <td>2/17/2019</td>\n",
       "      <td>3</td>\n",
       "      <td>married</td>\n",
       "      <td>40423</td>\n",
       "      <td>South</td>\n",
       "    </tr>\n",
       "  </tbody>\n",
       "</table>\n",
       "<p>2 rows × 32 columns</p>\n",
       "</div>"
      ],
      "text/plain": [
       "   order_id  user_id  order_number  orders_day_of_week  order_hour_of_day  \\\n",
       "0   2539329        1             1                   2                  8   \n",
       "1   2539329        1             1                   2                  8   \n",
       "\n",
       "   days_since_prior_order validation  product_id  add_to_cart_order  \\\n",
       "0                     NaN      prior       196.0                1.0   \n",
       "1                     NaN      prior     14084.0                2.0   \n",
       "\n",
       "   reordered  ... avg_price frequency_flag  gender    state  age date_joined  \\\n",
       "0        0.0  ...       5.9            NaN  Female  Alabama   31   2/17/2019   \n",
       "1        0.0  ...       5.9            NaN  Female  Alabama   31   2/17/2019   \n",
       "\n",
       "  n_dependants fam_status  income  region  \n",
       "0            3    married   40423   South  \n",
       "1            3    married   40423   South  \n",
       "\n",
       "[2 rows x 32 columns]"
      ]
     },
     "execution_count": 10,
     "metadata": {},
     "output_type": "execute_result"
    }
   ],
   "source": [
    "opc.head(2) # Check if region has been added"
   ]
  },
  {
   "cell_type": "code",
   "execution_count": 11,
   "id": "b99064e7-ec17-4fbe-8b03-86b074731d34",
   "metadata": {},
   "outputs": [
    {
     "data": {
      "image/png": "[encoded data removed]",
      "text/plain": [
       "<Figure size 640x480 with 1 Axes>"
      ]
     },
     "metadata": {},
     "output_type": "display_data"
    }
   ],
   "source": [
    "# Crosstab: counts of spender types per region\n",
    "ct = pd.crosstab(opc['region'], opc['spending_flag'])\n",
    "\n",
    "# Plot as grouped bar chart\n",
    "ct.plot(kind='bar')\n",
    "plt.title('Low vs High Spenders by Region')\n",
    "plt.xlabel('Region')\n",
    "plt.ylabel('Number of Customers')\n",
    "plt.legend(title='Spender Type')\n",
    "plt.tight_layout()\n",
    "plt.show()"
   ]
  },
  {
   "cell_type": "code",
   "execution_count": 12,
   "id": "734c82ae-b186-45f5-89dc-f7ded032b722",
   "metadata": {},
   "outputs": [],
   "source": [
    "# Group user id and unique order id since each row is not an order in the df\n",
    "order_counts = opc.groupby('user_id')['order_id'].nunique()"
   ]
  },
  {
   "cell_type": "code",
   "execution_count": 13,
   "id": "0882ab17-99cf-4ca8-b70d-038dbf715f67",
   "metadata": {},
   "outputs": [],
   "source": [
    "# Identifies users with less than 5 orders\n",
    "low_order_users = order_counts[order_counts < 5].index"
   ]
  },
  {
   "cell_type": "code",
   "execution_count": 14,
   "id": "ff447932-e314-4959-9cd2-8ed2ff1fdd0f",
   "metadata": {},
   "outputs": [],
   "source": [
    "# Create an exclusion flag in original opc\n",
    "opc['Exclude'] = opc['user_id'].isin(low_order_users)"
   ]
  },
  {
   "cell_type": "code",
   "execution_count": 15,
   "id": "bb7d40d0-0725-4154-b723-795625c1cbb7",
   "metadata": {},
   "outputs": [],
   "source": [
    "# Filter out excluded users from original opc file\n",
    "filtered_opc = opc[~opc['Exclude']]"
   ]
  },
  {
   "cell_type": "code",
   "execution_count": 16,
   "id": "2b04d902-ed4e-4c6a-8447-29731f3fd357",
   "metadata": {},
   "outputs": [
    {
     "data": {
      "text/plain": [
       "(31929979, 33)"
      ]
     },
     "execution_count": 16,
     "metadata": {},
     "output_type": "execute_result"
    }
   ],
   "source": [
    "filtered_opc.shape"
   ]
  },
  {
   "cell_type": "markdown",
   "id": "d40daca3-7053-4e9a-ad12-27331cd8150d",
   "metadata": {},
   "source": [
    "### 3. Export file (with mapping to be used in visualizations)"
   ]
  },
  {
   "cell_type": "code",
   "execution_count": 17,
   "id": "db0bc343-7dd4-4830-9410-35b32a162165",
   "metadata": {},
   "outputs": [],
   "source": [
    "# Export data to .pickle \n",
    "filtered_opc.to_pickle(os.path.join(path, 'ord-prod-cust_filtered.pkl'))"
   ]
  },
  {
   "cell_type": "code",
   "execution_count": null,
   "id": "806c8d28-35ce-4e48-b78b-73b522da5b00",
   "metadata": {},
   "outputs": [],
   "source": []
  }
 ],
 "metadata": {
  "kernelspec": {
   "display_name": "Python 3 (ipykernel)",
   "language": "python",
   "name": "python3"
  },
  "language_info": {
   "codemirror_mode": {
    "name": "ipython",
    "version": 3
   },
   "file_extension": ".py",
   "mimetype": "text/x-python",
   "name": "python",
   "nbconvert_exporter": "python",
   "pygments_lexer": "ipython3",
   "version": "3.12.3"
  }
 },
 "nbformat": 4,
 "nbformat_minor": 5
}
