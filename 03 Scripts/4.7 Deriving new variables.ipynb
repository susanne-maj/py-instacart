{
 "cells": [
  {
   "cell_type": "markdown",
   "id": "8f8a60eb-dae3-497b-8e7b-8b63f140eda6",
   "metadata": {},
   "source": [
    "# 4.7 DERIVING NEW VARIABLES"
   ]
  },
  {
   "cell_type": "markdown",
   "id": "b6838037-c373-4cc0-99d9-c3e14be18f09",
   "metadata": {},
   "source": [
    "## CONTENTS:\n",
    "1. Import libraries and data.\n",
    "2. Check data.\n",
    "3. Derive new variables and columns.\n",
    "4. Export data set."
   ]
  },
  {
   "cell_type": "markdown",
   "id": "0f584d62-cf96-49b2-a858-00fd3f38a6e1",
   "metadata": {},
   "source": [
    "### 1. Import libraries and data"
   ]
  },
  {
   "cell_type": "code",
   "execution_count": 2,
   "id": "40f68219-0b31-437b-9fda-e3bc50165be5",
   "metadata": {},
   "outputs": [],
   "source": [
    "# Import libraries\n",
    "import pandas as pd\n",
    "import numpy as np\n",
    "import os"
   ]
  },
  {
   "cell_type": "code",
   "execution_count": 6,
   "id": "7d8be9d8-6b50-4d7c-9de0-99bb8b9c6bf9",
   "metadata": {},
   "outputs": [],
   "source": [
    "# define path\n",
    "path = r'C:\\Users\\susan\\Documents\\data analytics\\Instacart Basket Analysis\\02 Data\\Prepared data'"
   ]
  },
  {
   "cell_type": "code",
   "execution_count": 29,
   "id": "b8bddf88-5cb6-47cb-a324-de082e6be71b",
   "metadata": {},
   "outputs": [],
   "source": [
    "# import ords_prods_merge\n",
    "ords_prods_merge = pd.read_pickle(os.path.join(path, 'ords_prods_merge.pkl'))"
   ]
  },
  {
   "cell_type": "markdown",
   "id": "ec725569-6172-43f6-9369-e6f4b6b981ca",
   "metadata": {},
   "source": [
    "### 2. Check data (and create a subset to use)"
   ]
  },
  {
   "cell_type": "code",
   "execution_count": 31,
   "id": "4846f60e-221f-49c3-b19f-0df83dbd7336",
   "metadata": {},
   "outputs": [
    {
     "data": {
      "text/plain": [
       "(59, 15)"
      ]
     },
     "execution_count": 31,
     "metadata": {},
     "output_type": "execute_result"
    }
   ],
   "source": [
    "df_ords_prods_merge.shape"
   ]
  },
  {
   "cell_type": "code",
   "execution_count": 73,
   "id": "45ecb84e-8a60-4482-b6fe-cf44de32f018",
   "metadata": {},
   "outputs": [],
   "source": [
    "# Create a subset to avoid issues with memory. The .iloc and .copy make a fresh copy and avoids panda warnings if removed already here.\n",
    "df = ords_prods_merge.iloc[:1000000].copy()"
   ]
  },
  {
   "cell_type": "markdown",
   "id": "a20d3f45-6b1b-4ff1-b138-c523535afabc",
   "metadata": {},
   "source": [
    "### 3. Derive new variables and columns"
   ]
  },
  {
   "cell_type": "code",
   "execution_count": 75,
   "id": "0a766d00-a0c3-4673-8546-a3bfd6975869",
   "metadata": {},
   "outputs": [],
   "source": [
    "# Define ranges and a column for price label. Define a function.\n",
    "def price_label(row):\n",
    "\n",
    "  if row['prices'] <= 5:\n",
    "    return 'Low-range product'\n",
    "  elif (row['prices'] > 5) and (row['prices'] <= 15):\n",
    "    return 'Mid-range product'\n",
    "  elif row['prices'] > 15:\n",
    "    return 'High range'\n",
    "  else: return 'Not enough data'"
   ]
  },
  {
   "cell_type": "code",
   "execution_count": 77,
   "id": "41641c4c-79b8-41f4-aa89-b7d2da5fb700",
   "metadata": {},
   "outputs": [],
   "source": [
    "# Apply the function \n",
    "df['price_range'] = df.apply(price_label, axis=1)"
   ]
  },
  {
   "cell_type": "code",
   "execution_count": 79,
   "id": "861a7703-8cd4-4a08-8a53-0f52705d8654",
   "metadata": {},
   "outputs": [
    {
     "data": {
      "text/plain": [
       "price_range\n",
       "Low-range product    32\n",
       "Mid-range product    27\n",
       "Name: count, dtype: int64"
      ]
     },
     "execution_count": 79,
     "metadata": {},
     "output_type": "execute_result"
    }
   ],
   "source": [
    "# Counting how many times the value appears in the price_range column\n",
    "df['price_range'].value_counts(dropna = False)"
   ]
  },
  {
   "cell_type": "code",
   "execution_count": 81,
   "id": "e7075562-0112-4f42-8115-cd418cd10db6",
   "metadata": {},
   "outputs": [
    {
     "data": {
      "text/plain": [
       "14.0"
      ]
     },
     "execution_count": 81,
     "metadata": {},
     "output_type": "execute_result"
    }
   ],
   "source": [
    "# Check what product is the most expensive\n",
    "df['prices'].max()"
   ]
  },
  {
   "cell_type": "code",
   "execution_count": 91,
   "id": "785c3777-58da-4f1f-97fa-1afb8b2ee653",
   "metadata": {},
   "outputs": [],
   "source": [
    "# Below the loc function is used to define the ranges"
   ]
  },
  {
   "cell_type": "code",
   "execution_count": 83,
   "id": "9a597129-03d5-4e83-9b9e-27a3b1d8e147",
   "metadata": {},
   "outputs": [],
   "source": [
    "df.loc[df['prices'] > 15, 'price_range_loc'] = 'High-range product'"
   ]
  },
  {
   "cell_type": "code",
   "execution_count": 85,
   "id": "915613dd-5932-48cd-ab61-7e91b0c8fc7a",
   "metadata": {},
   "outputs": [],
   "source": [
    "df.loc[(df['prices'] <= 15) & (df['prices'] > 5), 'price_range_loc'] = 'Mid-range product' "
   ]
  },
  {
   "cell_type": "code",
   "execution_count": 87,
   "id": "a6d3c2ee-f612-4c23-80d1-5dec08dadae2",
   "metadata": {},
   "outputs": [],
   "source": [
    "df.loc[df['prices'] <= 5, 'price_range_loc'] = 'Low-range product'"
   ]
  },
  {
   "cell_type": "code",
   "execution_count": 89,
   "id": "fe49e225-080d-48f3-877c-14eeedae109e",
   "metadata": {},
   "outputs": [
    {
     "data": {
      "text/plain": [
       "price_range\n",
       "Low-range product    32\n",
       "Mid-range product    27\n",
       "Name: count, dtype: int64"
      ]
     },
     "execution_count": 89,
     "metadata": {},
     "output_type": "execute_result"
    }
   ],
   "source": [
    "# Counting how many times the value appears in the price_range column\n",
    "df['price_range'].value_counts(dropna = False)"
   ]
  },
  {
   "cell_type": "code",
   "execution_count": 93,
   "id": "45d0bf20-2400-48ed-a863-b1500d4a372e",
   "metadata": {},
   "outputs": [],
   "source": [
    "# Run the loc function for the ords_prods_merge data frame"
   ]
  },
  {
   "cell_type": "code",
   "execution_count": 95,
   "id": "da5ba6d5-8899-46a2-acad-73a13801566b",
   "metadata": {},
   "outputs": [],
   "source": [
    "ords_prods_merge.loc[df['prices'] > 15, 'price_range_loc'] = 'High-range product'"
   ]
  },
  {
   "cell_type": "code",
   "execution_count": 97,
   "id": "32ad1d4f-0e74-4b8f-ba04-b1e953175a05",
   "metadata": {},
   "outputs": [],
   "source": [
    "ords_prods_merge.loc[(df['prices'] <= 15) & (df['prices'] > 5), 'price_range_loc'] = 'Mid-range product' "
   ]
  },
  {
   "cell_type": "code",
   "execution_count": 99,
   "id": "8356f72e-dcba-41ea-86b8-b45eec0da76b",
   "metadata": {},
   "outputs": [],
   "source": [
    "ords_prods_merge.loc[df['prices'] <= 5, 'price_range_loc'] = 'Low-range product'"
   ]
  },
  {
   "cell_type": "code",
   "execution_count": 103,
   "id": "596e4624-ceee-49ee-9591-4fad639ee688",
   "metadata": {
    "scrolled": true
   },
   "outputs": [
    {
     "data": {
      "text/plain": [
       "price_range\n",
       "Low-range product    32\n",
       "Mid-range product    27\n",
       "Name: count, dtype: int64"
      ]
     },
     "execution_count": 103,
     "metadata": {},
     "output_type": "execute_result"
    }
   ],
   "source": [
    "# Counting how many times the value appears in the price_range column. (Small dataframe???)\n",
    "df['price_range'].value_counts(dropna = False)"
   ]
  },
  {
   "cell_type": "code",
   "execution_count": 109,
   "id": "c5ca957c-842b-4ab5-b448-6447d61191fe",
   "metadata": {},
   "outputs": [
    {
     "data": {
      "text/plain": [
       "orders_day_of_week\n",
       "4    22\n",
       "1    17\n",
       "3    11\n",
       "2     9\n",
       "Name: count, dtype: int64"
      ]
     },
     "execution_count": 109,
     "metadata": {},
     "output_type": "execute_result"
    }
   ],
   "source": [
    "# Counting how many times the value appears in the price_range column\n",
    "ords_prods_merge['orders_day_of_week'].value_counts(dropna = False)"
   ]
  },
  {
   "cell_type": "code",
   "execution_count": 111,
   "id": "bc0c1c77-eab0-468d-888b-90a261a66bd7",
   "metadata": {},
   "outputs": [],
   "source": [
    "# Create a new column for busiest day\n",
    "result = []\n",
    "\n",
    "for value in ords_prods_merge[\"orders_day_of_week\"]:\n",
    "  if value == 0:\n",
    "    result.append(\"Busiest day\")\n",
    "  elif value == 4:\n",
    "    result.append(\"Least busy\")\n",
    "  else:\n",
    "    result.append(\"Regularly busy\")"
   ]
  },
  {
   "cell_type": "code",
   "execution_count": 113,
   "id": "d4443c8b-45ac-4b6c-b160-8ea535141c5d",
   "metadata": {},
   "outputs": [
    {
     "data": {
      "text/plain": [
       "['Regularly busy',\n",
       " 'Regularly busy',\n",
       " 'Regularly busy',\n",
       " 'Regularly busy',\n",
       " 'Regularly busy',\n",
       " 'Regularly busy',\n",
       " 'Regularly busy',\n",
       " 'Regularly busy',\n",
       " 'Regularly busy',\n",
       " 'Regularly busy',\n",
       " 'Regularly busy',\n",
       " 'Regularly busy',\n",
       " 'Regularly busy',\n",
       " 'Regularly busy',\n",
       " 'Regularly busy',\n",
       " 'Regularly busy',\n",
       " 'Least busy',\n",
       " 'Least busy',\n",
       " 'Least busy',\n",
       " 'Least busy',\n",
       " 'Least busy',\n",
       " 'Least busy',\n",
       " 'Least busy',\n",
       " 'Least busy',\n",
       " 'Least busy',\n",
       " 'Least busy',\n",
       " 'Least busy',\n",
       " 'Least busy',\n",
       " 'Least busy',\n",
       " 'Regularly busy',\n",
       " 'Regularly busy',\n",
       " 'Regularly busy',\n",
       " 'Regularly busy',\n",
       " 'Regularly busy',\n",
       " 'Regularly busy',\n",
       " 'Regularly busy',\n",
       " 'Regularly busy',\n",
       " 'Regularly busy',\n",
       " 'Regularly busy',\n",
       " 'Regularly busy',\n",
       " 'Regularly busy',\n",
       " 'Regularly busy',\n",
       " 'Regularly busy',\n",
       " 'Regularly busy',\n",
       " 'Regularly busy',\n",
       " 'Regularly busy',\n",
       " 'Regularly busy',\n",
       " 'Regularly busy',\n",
       " 'Regularly busy',\n",
       " 'Regularly busy',\n",
       " 'Least busy',\n",
       " 'Least busy',\n",
       " 'Least busy',\n",
       " 'Least busy',\n",
       " 'Least busy',\n",
       " 'Least busy',\n",
       " 'Least busy',\n",
       " 'Least busy',\n",
       " 'Least busy']"
      ]
     },
     "execution_count": 113,
     "metadata": {},
     "output_type": "execute_result"
    }
   ],
   "source": [
    "# Print the results list\n",
    "result"
   ]
  },
  {
   "cell_type": "code",
   "execution_count": 115,
   "id": "eda88b3c-5445-4f4c-a439-3691db84f616",
   "metadata": {},
   "outputs": [],
   "source": [
    "# Create a new column within the ords_prods_merge df called result\n",
    "ords_prods_merge['busiest day'] = result"
   ]
  },
  {
   "cell_type": "code",
   "execution_count": 129,
   "id": "c38fcd80-09b5-4247-8b06-8f421a9d4779",
   "metadata": {},
   "outputs": [
    {
     "data": {
      "text/plain": [
       "busiest day\n",
       "Regularly busy    37\n",
       "Least busy        22\n",
       "Name: count, dtype: int64"
      ]
     },
     "execution_count": 129,
     "metadata": {},
     "output_type": "execute_result"
    }
   ],
   "source": [
    "# Check the values, print the frequency. Frequency = 59 in both this one and the other df.\n",
    "ords_prods_merge['busiest day'].value_counts(dropna = False)"
   ]
  },
  {
   "cell_type": "code",
   "execution_count": 149,
   "id": "69288675-2b3c-439a-97c8-794523470b4a",
   "metadata": {},
   "outputs": [],
   "source": [
    "# (Exercise 2) Create a new column for \"busiest days\". Used the \"in\" operator. \n",
    "result = []\n",
    "\n",
    "for value in ords_prods_merge[\"orders_day_of_week\"]:\n",
    "  if value in [0, 1]: # For days 0 and 1\n",
    "    result.append(\"Busiest days\")\n",
    "  elif value in [6, 7]: # For days 6 and 7\n",
    "    result.append(\"Slowest days\")\n",
    "  else:\n",
    "    result.append(\"Regular days\") # For all other days"
   ]
  },
  {
   "cell_type": "code",
   "execution_count": 151,
   "id": "1cc917d2-a282-4c2d-9d30-7f0d3654dad8",
   "metadata": {},
   "outputs": [
    {
     "data": {
      "text/plain": [
       "orders_day_of_week\n",
       "4    22\n",
       "1    17\n",
       "3    11\n",
       "2     9\n",
       "Name: count, dtype: int64"
      ]
     },
     "execution_count": 151,
     "metadata": {},
     "output_type": "execute_result"
    }
   ],
   "source": [
    "# (Exercise 3)Check what to expect\n",
    "ords_prods_merge['orders_day_of_week'].value_counts(dropna = False)"
   ]
  },
  {
   "cell_type": "code",
   "execution_count": 153,
   "id": "8d3d607c-259c-4276-822f-b6ae7ea87489",
   "metadata": {},
   "outputs": [
    {
     "data": {
      "text/plain": [
       "['Regular days',\n",
       " 'Regular days',\n",
       " 'Regular days',\n",
       " 'Regular days',\n",
       " 'Regular days',\n",
       " 'Regular days',\n",
       " 'Regular days',\n",
       " 'Regular days',\n",
       " 'Regular days',\n",
       " 'Regular days',\n",
       " 'Regular days',\n",
       " 'Regular days',\n",
       " 'Regular days',\n",
       " 'Regular days',\n",
       " 'Regular days',\n",
       " 'Regular days',\n",
       " 'Regular days',\n",
       " 'Regular days',\n",
       " 'Regular days',\n",
       " 'Regular days',\n",
       " 'Regular days',\n",
       " 'Regular days',\n",
       " 'Regular days',\n",
       " 'Regular days',\n",
       " 'Regular days',\n",
       " 'Regular days',\n",
       " 'Regular days',\n",
       " 'Regular days',\n",
       " 'Regular days',\n",
       " 'Regular days',\n",
       " 'Regular days',\n",
       " 'Regular days',\n",
       " 'Regular days',\n",
       " 'Busiest days',\n",
       " 'Busiest days',\n",
       " 'Busiest days',\n",
       " 'Busiest days',\n",
       " 'Busiest days',\n",
       " 'Busiest days',\n",
       " 'Busiest days',\n",
       " 'Busiest days',\n",
       " 'Busiest days',\n",
       " 'Busiest days',\n",
       " 'Busiest days',\n",
       " 'Busiest days',\n",
       " 'Busiest days',\n",
       " 'Busiest days',\n",
       " 'Busiest days',\n",
       " 'Busiest days',\n",
       " 'Busiest days',\n",
       " 'Regular days',\n",
       " 'Regular days',\n",
       " 'Regular days',\n",
       " 'Regular days',\n",
       " 'Regular days',\n",
       " 'Regular days',\n",
       " 'Regular days',\n",
       " 'Regular days',\n",
       " 'Regular days']"
      ]
     },
     "execution_count": 153,
     "metadata": {},
     "output_type": "execute_result"
    }
   ],
   "source": [
    "# Print the results\n",
    "result"
   ]
  },
  {
   "cell_type": "code",
   "execution_count": 157,
   "id": "1beff9c2-7027-4f24-822b-458072dd7372",
   "metadata": {},
   "outputs": [
    {
     "data": {
      "text/html": [
       "<div>\n",
       "<style scoped>\n",
       "    .dataframe tbody tr th:only-of-type {\n",
       "        vertical-align: middle;\n",
       "    }\n",
       "\n",
       "    .dataframe tbody tr th {\n",
       "        vertical-align: top;\n",
       "    }\n",
       "\n",
       "    .dataframe thead th {\n",
       "        text-align: right;\n",
       "    }\n",
       "</style>\n",
       "<table border=\"1\" class=\"dataframe\">\n",
       "  <thead>\n",
       "    <tr style=\"text-align: right;\">\n",
       "      <th></th>\n",
       "      <th>order_id</th>\n",
       "      <th>user_id</th>\n",
       "      <th>validation</th>\n",
       "      <th>order_number</th>\n",
       "      <th>orders_day_of_week</th>\n",
       "      <th>order_hour_of_day</th>\n",
       "      <th>days_since_prior_order</th>\n",
       "      <th>product_id</th>\n",
       "      <th>add_to_cart_order</th>\n",
       "      <th>reordered</th>\n",
       "      <th>_merge</th>\n",
       "      <th>product_name</th>\n",
       "      <th>aisle_id</th>\n",
       "      <th>department_id</th>\n",
       "      <th>prices</th>\n",
       "      <th>price_range_loc</th>\n",
       "      <th>busiest day</th>\n",
       "    </tr>\n",
       "  </thead>\n",
       "  <tbody>\n",
       "    <tr>\n",
       "      <th>0</th>\n",
       "      <td>2539329</td>\n",
       "      <td>1</td>\n",
       "      <td>prior</td>\n",
       "      <td>1</td>\n",
       "      <td>2</td>\n",
       "      <td>8</td>\n",
       "      <td>NaN</td>\n",
       "      <td>196</td>\n",
       "      <td>1</td>\n",
       "      <td>0</td>\n",
       "      <td>both</td>\n",
       "      <td>Soda</td>\n",
       "      <td>77</td>\n",
       "      <td>7</td>\n",
       "      <td>9.0</td>\n",
       "      <td>Mid-range product</td>\n",
       "      <td>Regularly busy</td>\n",
       "    </tr>\n",
       "    <tr>\n",
       "      <th>1</th>\n",
       "      <td>2539329</td>\n",
       "      <td>1</td>\n",
       "      <td>prior</td>\n",
       "      <td>1</td>\n",
       "      <td>2</td>\n",
       "      <td>8</td>\n",
       "      <td>NaN</td>\n",
       "      <td>14084</td>\n",
       "      <td>2</td>\n",
       "      <td>0</td>\n",
       "      <td>both</td>\n",
       "      <td>Organic Unsweetened Vanilla Almond Milk</td>\n",
       "      <td>91</td>\n",
       "      <td>16</td>\n",
       "      <td>12.5</td>\n",
       "      <td>Mid-range product</td>\n",
       "      <td>Regularly busy</td>\n",
       "    </tr>\n",
       "    <tr>\n",
       "      <th>2</th>\n",
       "      <td>2539329</td>\n",
       "      <td>1</td>\n",
       "      <td>prior</td>\n",
       "      <td>1</td>\n",
       "      <td>2</td>\n",
       "      <td>8</td>\n",
       "      <td>NaN</td>\n",
       "      <td>12427</td>\n",
       "      <td>3</td>\n",
       "      <td>0</td>\n",
       "      <td>both</td>\n",
       "      <td>Original Beef Jerky</td>\n",
       "      <td>23</td>\n",
       "      <td>19</td>\n",
       "      <td>4.4</td>\n",
       "      <td>Low-range product</td>\n",
       "      <td>Regularly busy</td>\n",
       "    </tr>\n",
       "    <tr>\n",
       "      <th>3</th>\n",
       "      <td>2539329</td>\n",
       "      <td>1</td>\n",
       "      <td>prior</td>\n",
       "      <td>1</td>\n",
       "      <td>2</td>\n",
       "      <td>8</td>\n",
       "      <td>NaN</td>\n",
       "      <td>26088</td>\n",
       "      <td>4</td>\n",
       "      <td>0</td>\n",
       "      <td>both</td>\n",
       "      <td>Aged White Cheddar Popcorn</td>\n",
       "      <td>23</td>\n",
       "      <td>19</td>\n",
       "      <td>4.7</td>\n",
       "      <td>Low-range product</td>\n",
       "      <td>Regularly busy</td>\n",
       "    </tr>\n",
       "    <tr>\n",
       "      <th>4</th>\n",
       "      <td>2539329</td>\n",
       "      <td>1</td>\n",
       "      <td>prior</td>\n",
       "      <td>1</td>\n",
       "      <td>2</td>\n",
       "      <td>8</td>\n",
       "      <td>NaN</td>\n",
       "      <td>26405</td>\n",
       "      <td>5</td>\n",
       "      <td>0</td>\n",
       "      <td>both</td>\n",
       "      <td>XL Pick-A-Size Paper Towel Rolls</td>\n",
       "      <td>54</td>\n",
       "      <td>17</td>\n",
       "      <td>1.0</td>\n",
       "      <td>Low-range product</td>\n",
       "      <td>Regularly busy</td>\n",
       "    </tr>\n",
       "  </tbody>\n",
       "</table>\n",
       "</div>"
      ],
      "text/plain": [
       "   order_id  user_id validation  order_number  orders_day_of_week  \\\n",
       "0   2539329        1      prior             1                   2   \n",
       "1   2539329        1      prior             1                   2   \n",
       "2   2539329        1      prior             1                   2   \n",
       "3   2539329        1      prior             1                   2   \n",
       "4   2539329        1      prior             1                   2   \n",
       "\n",
       "   order_hour_of_day  days_since_prior_order  product_id  add_to_cart_order  \\\n",
       "0                  8                     NaN         196                  1   \n",
       "1                  8                     NaN       14084                  2   \n",
       "2                  8                     NaN       12427                  3   \n",
       "3                  8                     NaN       26088                  4   \n",
       "4                  8                     NaN       26405                  5   \n",
       "\n",
       "   reordered _merge                             product_name  aisle_id  \\\n",
       "0          0   both                                     Soda        77   \n",
       "1          0   both  Organic Unsweetened Vanilla Almond Milk        91   \n",
       "2          0   both                      Original Beef Jerky        23   \n",
       "3          0   both               Aged White Cheddar Popcorn        23   \n",
       "4          0   both         XL Pick-A-Size Paper Towel Rolls        54   \n",
       "\n",
       "   department_id  prices    price_range_loc     busiest day  \n",
       "0              7     9.0  Mid-range product  Regularly busy  \n",
       "1             16    12.5  Mid-range product  Regularly busy  \n",
       "2             19     4.4  Low-range product  Regularly busy  \n",
       "3             19     4.7  Low-range product  Regularly busy  \n",
       "4             17     1.0  Low-range product  Regularly busy  "
      ]
     },
     "execution_count": 157,
     "metadata": {},
     "output_type": "execute_result"
    }
   ],
   "source": [
    "ords_prods_merge.head(5)"
   ]
  },
  {
   "cell_type": "code",
   "execution_count": 161,
   "id": "a1d8dd16-3cf6-4a86-bce5-b955ba24baff",
   "metadata": {},
   "outputs": [
    {
     "data": {
      "text/plain": [
       "order_hour_of_day\n",
       "7     15\n",
       "8     14\n",
       "15     8\n",
       "14     6\n",
       "16     6\n",
       "12     5\n",
       "9      5\n",
       "Name: count, dtype: int64"
      ]
     },
     "execution_count": 161,
     "metadata": {},
     "output_type": "execute_result"
    }
   ],
   "source": [
    "# (Exercise 4)Check what to expect\n",
    "ords_prods_merge['order_hour_of_day'].value_counts(dropna = False)"
   ]
  },
  {
   "cell_type": "code",
   "execution_count": 167,
   "id": "7ba0a674-d97c-41e6-8fa4-361228a68bfe",
   "metadata": {},
   "outputs": [],
   "source": [
    "# (Exercise 4) Create a new column for \"busiest hour of day\". \n",
    "result = []\n",
    "\n",
    "for value in ords_prods_merge[\"order_hour_of_day\"]:\n",
    "  if value in [7, 8]: # For days 0 and 1\n",
    "    result.append(\"Most orders\")\n",
    "  elif value in [15]: # For days 6 and 7\n",
    "    result.append(\"Average orders\")\n",
    "  else:\n",
    "    result.append(\"Few orders\") # For all other days"
   ]
  },
  {
   "cell_type": "code",
   "execution_count": 169,
   "id": "13617e84-7629-4111-8c0f-cb5f144296b5",
   "metadata": {},
   "outputs": [
    {
     "data": {
      "text/plain": [
       "['Most orders',\n",
       " 'Most orders',\n",
       " 'Most orders',\n",
       " 'Most orders',\n",
       " 'Most orders',\n",
       " 'Most orders',\n",
       " 'Most orders',\n",
       " 'Most orders',\n",
       " 'Most orders',\n",
       " 'Most orders',\n",
       " 'Most orders',\n",
       " 'Few orders',\n",
       " 'Few orders',\n",
       " 'Few orders',\n",
       " 'Few orders',\n",
       " 'Few orders',\n",
       " 'Most orders',\n",
       " 'Most orders',\n",
       " 'Most orders',\n",
       " 'Most orders',\n",
       " 'Most orders',\n",
       " 'Average orders',\n",
       " 'Average orders',\n",
       " 'Average orders',\n",
       " 'Average orders',\n",
       " 'Average orders',\n",
       " 'Average orders',\n",
       " 'Average orders',\n",
       " 'Average orders',\n",
       " 'Most orders',\n",
       " 'Most orders',\n",
       " 'Most orders',\n",
       " 'Most orders',\n",
       " 'Few orders',\n",
       " 'Few orders',\n",
       " 'Few orders',\n",
       " 'Few orders',\n",
       " 'Few orders',\n",
       " 'Few orders',\n",
       " 'Few orders',\n",
       " 'Few orders',\n",
       " 'Few orders',\n",
       " 'Few orders',\n",
       " 'Few orders',\n",
       " 'Few orders',\n",
       " 'Few orders',\n",
       " 'Few orders',\n",
       " 'Few orders',\n",
       " 'Few orders',\n",
       " 'Few orders',\n",
       " 'Most orders',\n",
       " 'Most orders',\n",
       " 'Most orders',\n",
       " 'Most orders',\n",
       " 'Most orders',\n",
       " 'Most orders',\n",
       " 'Most orders',\n",
       " 'Most orders',\n",
       " 'Most orders']"
      ]
     },
     "execution_count": 169,
     "metadata": {},
     "output_type": "execute_result"
    }
   ],
   "source": [
    "# Print the results\n",
    "result"
   ]
  },
  {
   "cell_type": "markdown",
   "id": "ca469b62-93ab-441d-97b0-ea6878193574",
   "metadata": {},
   "source": [
    "### 4. Export data "
   ]
  },
  {
   "cell_type": "code",
   "execution_count": 172,
   "id": "f2fa96a3-ac29-4a34-b71c-cd23d1d61934",
   "metadata": {},
   "outputs": [],
   "source": [
    "# Export data to .pickle \n",
    "df_ords_prods_merge.to_pickle(os.path.join(path, 'ords_prods_new_columns.pkl'))"
   ]
  },
  {
   "cell_type": "code",
   "execution_count": null,
   "id": "e35c2d74-4bb3-417d-9f97-695981cbc9ed",
   "metadata": {},
   "outputs": [],
   "source": []
  }
 ],
 "metadata": {
  "kernelspec": {
   "display_name": "Python 3 (ipykernel)",
   "language": "python",
   "name": "python3"
  },
  "language_info": {
   "codemirror_mode": {
    "name": "ipython",
    "version": 3
   },
   "file_extension": ".py",
   "mimetype": "text/x-python",
   "name": "python",
   "nbconvert_exporter": "python",
   "pygments_lexer": "ipython3",
   "version": "3.12.3"
  }
 },
 "nbformat": 4,
 "nbformat_minor": 5
}
