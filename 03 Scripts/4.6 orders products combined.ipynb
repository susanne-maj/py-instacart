{
 "cells": [
  {
   "cell_type": "code",
   "execution_count": null,
   "id": "ef94bc4b-9cd8-4df6-97b3-6cfb0811def7",
   "metadata": {},
   "outputs": [],
   "source": [
    "# 1. Import libraries and combined file.\n",
    "# 2. Merge with products checked data. \n",
    "# 3. Check statistics.\n",
    "# 4. Export new file."
   ]
  },
  {
   "cell_type": "code",
   "execution_count": 1,
   "id": "d466c410-3577-490b-a3ab-0526f31fa36e",
   "metadata": {},
   "outputs": [],
   "source": [
    "# import libraries\n",
    "import pandas as pd\n",
    "import numpy as np\n",
    "import os"
   ]
  },
  {
   "cell_type": "code",
   "execution_count": 2,
   "id": "b0b4a9b8-1910-49da-9974-46a0924b1203",
   "metadata": {},
   "outputs": [],
   "source": [
    "# define path\n",
    "path = r'C:\\Users\\Administrator\\Documents\\data analytics\\Instacart Basket Analysis\\02 Data\\Prepared data'"
   ]
  },
  {
   "cell_type": "code",
   "execution_count": 3,
   "id": "39a3cca9-59a1-4881-ace8-98bdc3f15f2c",
   "metadata": {},
   "outputs": [
    {
     "data": {
      "text/plain": [
       "'C:\\\\Users\\\\Administrator\\\\Documents\\\\data analytics\\\\Instacart Basket Analysis\\\\02 Data\\\\Prepared data'"
      ]
     },
     "execution_count": 3,
     "metadata": {},
     "output_type": "execute_result"
    }
   ],
   "source": [
    "path"
   ]
  },
  {
   "cell_type": "code",
   "execution_count": 4,
   "id": "797809c3-35a6-43f7-822d-418f03494486",
   "metadata": {},
   "outputs": [],
   "source": [
    "# import orders_products_combined\n",
    "df_comb = pd.read_pickle(os.path.join(path, 'orders_products_combined.pkl'))"
   ]
  },
  {
   "cell_type": "code",
   "execution_count": 5,
   "id": "9016009b-2bc7-4d64-a494-a78d70eb2cbd",
   "metadata": {},
   "outputs": [
    {
     "data": {
      "text/plain": [
       "(32640698, 11)"
      ]
     },
     "execution_count": 5,
     "metadata": {},
     "output_type": "execute_result"
    }
   ],
   "source": [
    "df_comb.shape"
   ]
  },
  {
   "cell_type": "code",
   "execution_count": 6,
   "id": "7f5c7e2c-84a0-4a04-bdf2-85b60504fe70",
   "metadata": {},
   "outputs": [],
   "source": [
    "# import products_checked\n",
    "df_prod = pd.read_csv(os.path.join(path, 'products_checked.csv'))"
   ]
  },
  {
   "cell_type": "code",
   "execution_count": 7,
   "id": "e97a4300-9899-44ea-bc89-8df3dd6922a1",
   "metadata": {},
   "outputs": [
    {
     "data": {
      "text/plain": [
       "(49672, 5)"
      ]
     },
     "execution_count": 7,
     "metadata": {},
     "output_type": "execute_result"
    }
   ],
   "source": [
    "df_prod.shape"
   ]
  },
  {
   "cell_type": "code",
   "execution_count": 8,
   "id": "ae93b9a4-08d1-4a58-847a-f23aa2480f89",
   "metadata": {},
   "outputs": [
    {
     "data": {
      "text/html": [
       "<div>\n",
       "<style scoped>\n",
       "    .dataframe tbody tr th:only-of-type {\n",
       "        vertical-align: middle;\n",
       "    }\n",
       "\n",
       "    .dataframe tbody tr th {\n",
       "        vertical-align: top;\n",
       "    }\n",
       "\n",
       "    .dataframe thead th {\n",
       "        text-align: right;\n",
       "    }\n",
       "</style>\n",
       "<table border=\"1\" class=\"dataframe\">\n",
       "  <thead>\n",
       "    <tr style=\"text-align: right;\">\n",
       "      <th></th>\n",
       "      <th>product_id</th>\n",
       "      <th>aisle_id</th>\n",
       "      <th>department_id</th>\n",
       "      <th>prices</th>\n",
       "    </tr>\n",
       "  </thead>\n",
       "  <tbody>\n",
       "    <tr>\n",
       "      <th>count</th>\n",
       "      <td>49672.000000</td>\n",
       "      <td>49672.000000</td>\n",
       "      <td>49672.000000</td>\n",
       "      <td>49672.000000</td>\n",
       "    </tr>\n",
       "    <tr>\n",
       "      <th>mean</th>\n",
       "      <td>24850.349775</td>\n",
       "      <td>67.762442</td>\n",
       "      <td>11.728942</td>\n",
       "      <td>9.993282</td>\n",
       "    </tr>\n",
       "    <tr>\n",
       "      <th>std</th>\n",
       "      <td>14340.705287</td>\n",
       "      <td>38.315784</td>\n",
       "      <td>5.850779</td>\n",
       "      <td>453.615536</td>\n",
       "    </tr>\n",
       "    <tr>\n",
       "      <th>min</th>\n",
       "      <td>1.000000</td>\n",
       "      <td>1.000000</td>\n",
       "      <td>1.000000</td>\n",
       "      <td>1.000000</td>\n",
       "    </tr>\n",
       "    <tr>\n",
       "      <th>25%</th>\n",
       "      <td>12432.750000</td>\n",
       "      <td>35.000000</td>\n",
       "      <td>7.000000</td>\n",
       "      <td>4.100000</td>\n",
       "    </tr>\n",
       "    <tr>\n",
       "      <th>50%</th>\n",
       "      <td>24850.500000</td>\n",
       "      <td>69.000000</td>\n",
       "      <td>13.000000</td>\n",
       "      <td>7.100000</td>\n",
       "    </tr>\n",
       "    <tr>\n",
       "      <th>75%</th>\n",
       "      <td>37268.250000</td>\n",
       "      <td>100.000000</td>\n",
       "      <td>17.000000</td>\n",
       "      <td>11.100000</td>\n",
       "    </tr>\n",
       "    <tr>\n",
       "      <th>max</th>\n",
       "      <td>49688.000000</td>\n",
       "      <td>134.000000</td>\n",
       "      <td>21.000000</td>\n",
       "      <td>99999.000000</td>\n",
       "    </tr>\n",
       "  </tbody>\n",
       "</table>\n",
       "</div>"
      ],
      "text/plain": [
       "         product_id      aisle_id  department_id        prices\n",
       "count  49672.000000  49672.000000   49672.000000  49672.000000\n",
       "mean   24850.349775     67.762442      11.728942      9.993282\n",
       "std    14340.705287     38.315784       5.850779    453.615536\n",
       "min        1.000000      1.000000       1.000000      1.000000\n",
       "25%    12432.750000     35.000000       7.000000      4.100000\n",
       "50%    24850.500000     69.000000      13.000000      7.100000\n",
       "75%    37268.250000    100.000000      17.000000     11.100000\n",
       "max    49688.000000    134.000000      21.000000  99999.000000"
      ]
     },
     "execution_count": 8,
     "metadata": {},
     "output_type": "execute_result"
    }
   ],
   "source": [
    "df_prod.describe()"
   ]
  },
  {
   "cell_type": "code",
   "execution_count": 9,
   "id": "88378273-c901-4692-8ec1-3f918dc665f7",
   "metadata": {},
   "outputs": [
    {
     "data": {
      "text/html": [
       "<div>\n",
       "<style scoped>\n",
       "    .dataframe tbody tr th:only-of-type {\n",
       "        vertical-align: middle;\n",
       "    }\n",
       "\n",
       "    .dataframe tbody tr th {\n",
       "        vertical-align: top;\n",
       "    }\n",
       "\n",
       "    .dataframe thead th {\n",
       "        text-align: right;\n",
       "    }\n",
       "</style>\n",
       "<table border=\"1\" class=\"dataframe\">\n",
       "  <thead>\n",
       "    <tr style=\"text-align: right;\">\n",
       "      <th></th>\n",
       "      <th>order_id</th>\n",
       "      <th>user_id</th>\n",
       "      <th>order_number</th>\n",
       "      <th>orders_day_of_week</th>\n",
       "      <th>order_hour_of_day</th>\n",
       "      <th>days_since_prior_order</th>\n",
       "      <th>product_id</th>\n",
       "      <th>add_to_cart_order</th>\n",
       "      <th>reordered</th>\n",
       "    </tr>\n",
       "  </thead>\n",
       "  <tbody>\n",
       "    <tr>\n",
       "      <th>count</th>\n",
       "      <td>3.264070e+07</td>\n",
       "      <td>3.264070e+07</td>\n",
       "      <td>3.264070e+07</td>\n",
       "      <td>3.264070e+07</td>\n",
       "      <td>3.264070e+07</td>\n",
       "      <td>3.056263e+07</td>\n",
       "      <td>3.243449e+07</td>\n",
       "      <td>3.243449e+07</td>\n",
       "      <td>3.243449e+07</td>\n",
       "    </tr>\n",
       "    <tr>\n",
       "      <th>mean</th>\n",
       "      <td>1.710719e+06</td>\n",
       "      <td>1.029383e+05</td>\n",
       "      <td>1.713856e+01</td>\n",
       "      <td>2.739040e+00</td>\n",
       "      <td>1.342599e+01</td>\n",
       "      <td>1.114427e+01</td>\n",
       "      <td>2.557634e+04</td>\n",
       "      <td>8.351076e+00</td>\n",
       "      <td>5.896975e-01</td>\n",
       "    </tr>\n",
       "    <tr>\n",
       "      <th>std</th>\n",
       "      <td>9.873085e+05</td>\n",
       "      <td>5.946686e+04</td>\n",
       "      <td>1.752967e+01</td>\n",
       "      <td>2.090265e+00</td>\n",
       "      <td>4.246227e+00</td>\n",
       "      <td>8.806570e+00</td>\n",
       "      <td>1.409669e+04</td>\n",
       "      <td>7.126671e+00</td>\n",
       "      <td>4.918886e-01</td>\n",
       "    </tr>\n",
       "    <tr>\n",
       "      <th>min</th>\n",
       "      <td>1.000000e+00</td>\n",
       "      <td>1.000000e+00</td>\n",
       "      <td>1.000000e+00</td>\n",
       "      <td>0.000000e+00</td>\n",
       "      <td>0.000000e+00</td>\n",
       "      <td>0.000000e+00</td>\n",
       "      <td>1.000000e+00</td>\n",
       "      <td>1.000000e+00</td>\n",
       "      <td>0.000000e+00</td>\n",
       "    </tr>\n",
       "    <tr>\n",
       "      <th>25%</th>\n",
       "      <td>8.558860e+05</td>\n",
       "      <td>5.142200e+04</td>\n",
       "      <td>5.000000e+00</td>\n",
       "      <td>1.000000e+00</td>\n",
       "      <td>1.000000e+01</td>\n",
       "      <td>5.000000e+00</td>\n",
       "      <td>1.353000e+04</td>\n",
       "      <td>3.000000e+00</td>\n",
       "      <td>0.000000e+00</td>\n",
       "    </tr>\n",
       "    <tr>\n",
       "      <th>50%</th>\n",
       "      <td>1.710984e+06</td>\n",
       "      <td>1.026160e+05</td>\n",
       "      <td>1.100000e+01</td>\n",
       "      <td>3.000000e+00</td>\n",
       "      <td>1.300000e+01</td>\n",
       "      <td>8.000000e+00</td>\n",
       "      <td>2.525600e+04</td>\n",
       "      <td>6.000000e+00</td>\n",
       "      <td>1.000000e+00</td>\n",
       "    </tr>\n",
       "    <tr>\n",
       "      <th>75%</th>\n",
       "      <td>2.565490e+06</td>\n",
       "      <td>1.543940e+05</td>\n",
       "      <td>2.400000e+01</td>\n",
       "      <td>5.000000e+00</td>\n",
       "      <td>1.600000e+01</td>\n",
       "      <td>1.500000e+01</td>\n",
       "      <td>3.793500e+04</td>\n",
       "      <td>1.100000e+01</td>\n",
       "      <td>1.000000e+00</td>\n",
       "    </tr>\n",
       "    <tr>\n",
       "      <th>max</th>\n",
       "      <td>3.421083e+06</td>\n",
       "      <td>2.062090e+05</td>\n",
       "      <td>1.000000e+02</td>\n",
       "      <td>6.000000e+00</td>\n",
       "      <td>2.300000e+01</td>\n",
       "      <td>3.000000e+01</td>\n",
       "      <td>4.968800e+04</td>\n",
       "      <td>1.450000e+02</td>\n",
       "      <td>1.000000e+00</td>\n",
       "    </tr>\n",
       "  </tbody>\n",
       "</table>\n",
       "</div>"
      ],
      "text/plain": [
       "           order_id       user_id  order_number  orders_day_of_week  \\\n",
       "count  3.264070e+07  3.264070e+07  3.264070e+07        3.264070e+07   \n",
       "mean   1.710719e+06  1.029383e+05  1.713856e+01        2.739040e+00   \n",
       "std    9.873085e+05  5.946686e+04  1.752967e+01        2.090265e+00   \n",
       "min    1.000000e+00  1.000000e+00  1.000000e+00        0.000000e+00   \n",
       "25%    8.558860e+05  5.142200e+04  5.000000e+00        1.000000e+00   \n",
       "50%    1.710984e+06  1.026160e+05  1.100000e+01        3.000000e+00   \n",
       "75%    2.565490e+06  1.543940e+05  2.400000e+01        5.000000e+00   \n",
       "max    3.421083e+06  2.062090e+05  1.000000e+02        6.000000e+00   \n",
       "\n",
       "       order_hour_of_day  days_since_prior_order    product_id  \\\n",
       "count       3.264070e+07            3.056263e+07  3.243449e+07   \n",
       "mean        1.342599e+01            1.114427e+01  2.557634e+04   \n",
       "std         4.246227e+00            8.806570e+00  1.409669e+04   \n",
       "min         0.000000e+00            0.000000e+00  1.000000e+00   \n",
       "25%         1.000000e+01            5.000000e+00  1.353000e+04   \n",
       "50%         1.300000e+01            8.000000e+00  2.525600e+04   \n",
       "75%         1.600000e+01            1.500000e+01  3.793500e+04   \n",
       "max         2.300000e+01            3.000000e+01  4.968800e+04   \n",
       "\n",
       "       add_to_cart_order     reordered  \n",
       "count       3.243449e+07  3.243449e+07  \n",
       "mean        8.351076e+00  5.896975e-01  \n",
       "std         7.126671e+00  4.918886e-01  \n",
       "min         1.000000e+00  0.000000e+00  \n",
       "25%         3.000000e+00  0.000000e+00  \n",
       "50%         6.000000e+00  1.000000e+00  \n",
       "75%         1.100000e+01  1.000000e+00  \n",
       "max         1.450000e+02  1.000000e+00  "
      ]
     },
     "execution_count": 9,
     "metadata": {},
     "output_type": "execute_result"
    }
   ],
   "source": [
    "df_comb.describe()"
   ]
  },
  {
   "cell_type": "code",
   "execution_count": 10,
   "id": "3364c7a5-5248-4ea3-9869-7137a14303a7",
   "metadata": {},
   "outputs": [],
   "source": [
    "# Merge df_comb with df_prod (shows observations in both dataframes, keeping all rows from df_comb)\n",
    "df_merged = df_comb.merge(df_prod, on = 'product_id', how = 'left')"
   ]
  },
  {
   "cell_type": "code",
   "execution_count": 11,
   "id": "b9f099c6-d1d9-45d8-a5b6-73c47b7ab077",
   "metadata": {},
   "outputs": [
    {
     "data": {
      "text/plain": [
       "_merge\n",
       "both          32435059\n",
       "left_only       206209\n",
       "right_only           0\n",
       "Name: count, dtype: int64"
      ]
     },
     "execution_count": 11,
     "metadata": {},
     "output_type": "execute_result"
    }
   ],
   "source": [
    "# Sum up values in the merge column (confirm the results using the merge flag)\n",
    "df_merged['_merge'].value_counts()"
   ]
  },
  {
   "cell_type": "code",
   "execution_count": 13,
   "id": "586d0797-ee38-4071-900d-e22112e67117",
   "metadata": {},
   "outputs": [
    {
     "data": {
      "text/plain": [
       "(32641268, 15)"
      ]
     },
     "execution_count": 13,
     "metadata": {},
     "output_type": "execute_result"
    }
   ],
   "source": [
    "df_merged.shape"
   ]
  },
  {
   "cell_type": "code",
   "execution_count": 14,
   "id": "d0c3336f-5ca6-461b-ad4a-7350fea67c3f",
   "metadata": {},
   "outputs": [],
   "source": [
    "# Export data to .csv -- df_merged_large.to_pickle(os.path.join(path, '02 Data','Prepared Data', 'orders_products_combined.csv'))\n",
    "df_merged.to_pickle(os.path.join(path, 'ords_prods_merge.pkl'))"
   ]
  },
  {
   "cell_type": "code",
   "execution_count": null,
   "id": "1b89c109-6d32-4013-ad6c-a6ccc12e2b7a",
   "metadata": {},
   "outputs": [],
   "source": []
  },
  {
   "cell_type": "code",
   "execution_count": null,
   "id": "483d7fc7-bbf0-4fc3-96aa-5f5e969b3985",
   "metadata": {
    "jupyter": {
     "source_hidden": true
    }
   },
   "outputs": [],
   "source": []
  }
 ],
 "metadata": {
  "kernelspec": {
   "display_name": "Python 3 (ipykernel)",
   "language": "python",
   "name": "python3"
  },
  "language_info": {
   "codemirror_mode": {
    "name": "ipython",
    "version": 3
   },
   "file_extension": ".py",
   "mimetype": "text/x-python",
   "name": "python",
   "nbconvert_exporter": "python",
   "pygments_lexer": "ipython3",
   "version": "3.12.7"
  }
 },
 "nbformat": 4,
 "nbformat_minor": 5
}
