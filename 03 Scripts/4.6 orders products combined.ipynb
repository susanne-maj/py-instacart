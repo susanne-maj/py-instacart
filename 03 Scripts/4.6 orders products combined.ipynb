{
 "cells": [
  {
   "cell_type": "markdown",
   "id": "664ae46d-4923-4c18-8469-230ebe1236a3",
   "metadata": {},
   "source": [
    "# 4.6 ORDERS PRODUCTS COMBINED (MERGE OF DATA)"
   ]
  },
  {
   "cell_type": "markdown",
   "id": "9472e88f-8c7d-4408-95ea-d3aa0a5aa998",
   "metadata": {},
   "source": [
    "## CONTENTS:\n",
    "1. Import libraries\n",
    "2. Check and clean data (if necessary)\n",
    "3. Merge data files "
   ]
  },
  {
   "cell_type": "markdown",
   "id": "4672607a-3fd3-4c0a-a2ed-7af3243d9e94",
   "metadata": {},
   "source": [
    "### 1. Import libraries"
   ]
  },
  {
   "cell_type": "code",
   "execution_count": 2,
   "id": "d466c410-3577-490b-a3ab-0526f31fa36e",
   "metadata": {},
   "outputs": [],
   "source": [
    "# import libraries\n",
    "import pandas as pd\n",
    "import numpy as np\n",
    "import os"
   ]
  },
  {
   "cell_type": "code",
   "execution_count": 6,
   "id": "b0b4a9b8-1910-49da-9974-46a0924b1203",
   "metadata": {},
   "outputs": [],
   "source": [
    "# define path\n",
    "path = r'C:\\Users\\susan\\Documents\\data analytics\\Instacart Basket Analysis\\02 Data\\Prepared data'"
   ]
  },
  {
   "cell_type": "code",
   "execution_count": 8,
   "id": "39a3cca9-59a1-4881-ace8-98bdc3f15f2c",
   "metadata": {},
   "outputs": [
    {
     "data": {
      "text/plain": [
       "'C:\\\\Users\\\\susan\\\\Documents\\\\data analytics\\\\Instacart Basket Analysis\\\\02 Data\\\\Prepared data'"
      ]
     },
     "execution_count": 8,
     "metadata": {},
     "output_type": "execute_result"
    }
   ],
   "source": [
    "path"
   ]
  },
  {
   "cell_type": "code",
   "execution_count": 27,
   "id": "797809c3-35a6-43f7-822d-418f03494486",
   "metadata": {},
   "outputs": [],
   "source": [
    "# import orders_products_combined\n",
    "df_comb = pd.read_pickle(os.path.join(path, 'orders_products_combined.pkl'))"
   ]
  },
  {
   "cell_type": "markdown",
   "id": "3bb57495-52ef-41c8-8970-85ff0b2c55f6",
   "metadata": {},
   "source": [
    "### 2. Check and clean data (if necessary)"
   ]
  },
  {
   "cell_type": "code",
   "execution_count": 29,
   "id": "9016009b-2bc7-4d64-a494-a78d70eb2cbd",
   "metadata": {},
   "outputs": [
    {
     "data": {
      "text/plain": [
       "(59, 11)"
      ]
     },
     "execution_count": 29,
     "metadata": {},
     "output_type": "execute_result"
    }
   ],
   "source": [
    "df_comb.shape"
   ]
  },
  {
   "cell_type": "code",
   "execution_count": 31,
   "id": "7f5c7e2c-84a0-4a04-bdf2-85b60504fe70",
   "metadata": {},
   "outputs": [],
   "source": [
    "# import products_checked\n",
    "df_prod = pd.read_csv(os.path.join(path, 'products_checked.csv'))"
   ]
  },
  {
   "cell_type": "code",
   "execution_count": 34,
   "id": "e97a4300-9899-44ea-bc89-8df3dd6922a1",
   "metadata": {},
   "outputs": [
    {
     "data": {
      "text/plain": [
       "(49672, 5)"
      ]
     },
     "execution_count": 34,
     "metadata": {},
     "output_type": "execute_result"
    }
   ],
   "source": [
    "df_prod.shape"
   ]
  },
  {
   "cell_type": "code",
   "execution_count": 45,
   "id": "ae93b9a4-08d1-4a58-847a-f23aa2480f89",
   "metadata": {},
   "outputs": [
    {
     "data": {
      "text/html": [
       "<div>\n",
       "<style scoped>\n",
       "    .dataframe tbody tr th:only-of-type {\n",
       "        vertical-align: middle;\n",
       "    }\n",
       "\n",
       "    .dataframe tbody tr th {\n",
       "        vertical-align: top;\n",
       "    }\n",
       "\n",
       "    .dataframe thead th {\n",
       "        text-align: right;\n",
       "    }\n",
       "</style>\n",
       "<table border=\"1\" class=\"dataframe\">\n",
       "  <thead>\n",
       "    <tr style=\"text-align: right;\">\n",
       "      <th></th>\n",
       "      <th>product_id</th>\n",
       "      <th>aisle_id</th>\n",
       "      <th>department_id</th>\n",
       "      <th>prices</th>\n",
       "    </tr>\n",
       "  </thead>\n",
       "  <tbody>\n",
       "    <tr>\n",
       "      <th>count</th>\n",
       "      <td>49672.000000</td>\n",
       "      <td>49672.000000</td>\n",
       "      <td>49672.000000</td>\n",
       "      <td>49672.000000</td>\n",
       "    </tr>\n",
       "    <tr>\n",
       "      <th>mean</th>\n",
       "      <td>24850.349775</td>\n",
       "      <td>67.762442</td>\n",
       "      <td>11.728942</td>\n",
       "      <td>9.993282</td>\n",
       "    </tr>\n",
       "    <tr>\n",
       "      <th>std</th>\n",
       "      <td>14340.705287</td>\n",
       "      <td>38.315784</td>\n",
       "      <td>5.850779</td>\n",
       "      <td>453.615536</td>\n",
       "    </tr>\n",
       "    <tr>\n",
       "      <th>min</th>\n",
       "      <td>1.000000</td>\n",
       "      <td>1.000000</td>\n",
       "      <td>1.000000</td>\n",
       "      <td>1.000000</td>\n",
       "    </tr>\n",
       "    <tr>\n",
       "      <th>25%</th>\n",
       "      <td>12432.750000</td>\n",
       "      <td>35.000000</td>\n",
       "      <td>7.000000</td>\n",
       "      <td>4.100000</td>\n",
       "    </tr>\n",
       "    <tr>\n",
       "      <th>50%</th>\n",
       "      <td>24850.500000</td>\n",
       "      <td>69.000000</td>\n",
       "      <td>13.000000</td>\n",
       "      <td>7.100000</td>\n",
       "    </tr>\n",
       "    <tr>\n",
       "      <th>75%</th>\n",
       "      <td>37268.250000</td>\n",
       "      <td>100.000000</td>\n",
       "      <td>17.000000</td>\n",
       "      <td>11.100000</td>\n",
       "    </tr>\n",
       "    <tr>\n",
       "      <th>max</th>\n",
       "      <td>49688.000000</td>\n",
       "      <td>134.000000</td>\n",
       "      <td>21.000000</td>\n",
       "      <td>99999.000000</td>\n",
       "    </tr>\n",
       "  </tbody>\n",
       "</table>\n",
       "</div>"
      ],
      "text/plain": [
       "         product_id      aisle_id  department_id        prices\n",
       "count  49672.000000  49672.000000   49672.000000  49672.000000\n",
       "mean   24850.349775     67.762442      11.728942      9.993282\n",
       "std    14340.705287     38.315784       5.850779    453.615536\n",
       "min        1.000000      1.000000       1.000000      1.000000\n",
       "25%    12432.750000     35.000000       7.000000      4.100000\n",
       "50%    24850.500000     69.000000      13.000000      7.100000\n",
       "75%    37268.250000    100.000000      17.000000     11.100000\n",
       "max    49688.000000    134.000000      21.000000  99999.000000"
      ]
     },
     "execution_count": 45,
     "metadata": {},
     "output_type": "execute_result"
    }
   ],
   "source": [
    "df_prod.describe()"
   ]
  },
  {
   "cell_type": "code",
   "execution_count": 43,
   "id": "88378273-c901-4692-8ec1-3f918dc665f7",
   "metadata": {},
   "outputs": [
    {
     "data": {
      "text/html": [
       "<div>\n",
       "<style scoped>\n",
       "    .dataframe tbody tr th:only-of-type {\n",
       "        vertical-align: middle;\n",
       "    }\n",
       "\n",
       "    .dataframe tbody tr th {\n",
       "        vertical-align: top;\n",
       "    }\n",
       "\n",
       "    .dataframe thead th {\n",
       "        text-align: right;\n",
       "    }\n",
       "</style>\n",
       "<table border=\"1\" class=\"dataframe\">\n",
       "  <thead>\n",
       "    <tr style=\"text-align: right;\">\n",
       "      <th></th>\n",
       "      <th>order_id</th>\n",
       "      <th>user_id</th>\n",
       "      <th>order_number</th>\n",
       "      <th>orders_day_of_week</th>\n",
       "      <th>order_hour_of_day</th>\n",
       "      <th>days_since_prior_order</th>\n",
       "      <th>product_id</th>\n",
       "      <th>add_to_cart_order</th>\n",
       "      <th>reordered</th>\n",
       "    </tr>\n",
       "  </thead>\n",
       "  <tbody>\n",
       "    <tr>\n",
       "      <th>count</th>\n",
       "      <td>5.900000e+01</td>\n",
       "      <td>59.0</td>\n",
       "      <td>59.000000</td>\n",
       "      <td>59.000000</td>\n",
       "      <td>59.000000</td>\n",
       "      <td>54.000000</td>\n",
       "      <td>59.000000</td>\n",
       "      <td>59.000000</td>\n",
       "      <td>59.000000</td>\n",
       "    </tr>\n",
       "    <tr>\n",
       "      <th>mean</th>\n",
       "      <td>1.962396e+06</td>\n",
       "      <td>1.0</td>\n",
       "      <td>5.813559</td>\n",
       "      <td>2.644068</td>\n",
       "      <td>10.542373</td>\n",
       "      <td>20.259259</td>\n",
       "      <td>17885.966102</td>\n",
       "      <td>3.627119</td>\n",
       "      <td>0.694915</td>\n",
       "    </tr>\n",
       "    <tr>\n",
       "      <th>std</th>\n",
       "      <td>1.038832e+06</td>\n",
       "      <td>0.0</td>\n",
       "      <td>2.991220</td>\n",
       "      <td>1.256194</td>\n",
       "      <td>3.500355</td>\n",
       "      <td>9.304463</td>\n",
       "      <td>13878.937001</td>\n",
       "      <td>2.016298</td>\n",
       "      <td>0.464396</td>\n",
       "    </tr>\n",
       "    <tr>\n",
       "      <th>min</th>\n",
       "      <td>4.315340e+05</td>\n",
       "      <td>1.0</td>\n",
       "      <td>1.000000</td>\n",
       "      <td>1.000000</td>\n",
       "      <td>7.000000</td>\n",
       "      <td>0.000000</td>\n",
       "      <td>196.000000</td>\n",
       "      <td>1.000000</td>\n",
       "      <td>0.000000</td>\n",
       "    </tr>\n",
       "    <tr>\n",
       "      <th>25%</th>\n",
       "      <td>5.501350e+05</td>\n",
       "      <td>1.0</td>\n",
       "      <td>3.000000</td>\n",
       "      <td>1.000000</td>\n",
       "      <td>7.500000</td>\n",
       "      <td>15.000000</td>\n",
       "      <td>10258.000000</td>\n",
       "      <td>2.000000</td>\n",
       "      <td>0.000000</td>\n",
       "    </tr>\n",
       "    <tr>\n",
       "      <th>50%</th>\n",
       "      <td>2.398795e+06</td>\n",
       "      <td>1.0</td>\n",
       "      <td>6.000000</td>\n",
       "      <td>3.000000</td>\n",
       "      <td>9.000000</td>\n",
       "      <td>20.500000</td>\n",
       "      <td>12427.000000</td>\n",
       "      <td>3.000000</td>\n",
       "      <td>1.000000</td>\n",
       "    </tr>\n",
       "    <tr>\n",
       "      <th>75%</th>\n",
       "      <td>2.550362e+06</td>\n",
       "      <td>1.0</td>\n",
       "      <td>8.500000</td>\n",
       "      <td>4.000000</td>\n",
       "      <td>14.000000</td>\n",
       "      <td>28.750000</td>\n",
       "      <td>25133.000000</td>\n",
       "      <td>5.000000</td>\n",
       "      <td>1.000000</td>\n",
       "    </tr>\n",
       "    <tr>\n",
       "      <th>max</th>\n",
       "      <td>3.367565e+06</td>\n",
       "      <td>1.0</td>\n",
       "      <td>10.000000</td>\n",
       "      <td>4.000000</td>\n",
       "      <td>16.000000</td>\n",
       "      <td>30.000000</td>\n",
       "      <td>49235.000000</td>\n",
       "      <td>9.000000</td>\n",
       "      <td>1.000000</td>\n",
       "    </tr>\n",
       "  </tbody>\n",
       "</table>\n",
       "</div>"
      ],
      "text/plain": [
       "           order_id  user_id  order_number  orders_day_of_week  \\\n",
       "count  5.900000e+01     59.0     59.000000           59.000000   \n",
       "mean   1.962396e+06      1.0      5.813559            2.644068   \n",
       "std    1.038832e+06      0.0      2.991220            1.256194   \n",
       "min    4.315340e+05      1.0      1.000000            1.000000   \n",
       "25%    5.501350e+05      1.0      3.000000            1.000000   \n",
       "50%    2.398795e+06      1.0      6.000000            3.000000   \n",
       "75%    2.550362e+06      1.0      8.500000            4.000000   \n",
       "max    3.367565e+06      1.0     10.000000            4.000000   \n",
       "\n",
       "       order_hour_of_day  days_since_prior_order    product_id  \\\n",
       "count          59.000000               54.000000     59.000000   \n",
       "mean           10.542373               20.259259  17885.966102   \n",
       "std             3.500355                9.304463  13878.937001   \n",
       "min             7.000000                0.000000    196.000000   \n",
       "25%             7.500000               15.000000  10258.000000   \n",
       "50%             9.000000               20.500000  12427.000000   \n",
       "75%            14.000000               28.750000  25133.000000   \n",
       "max            16.000000               30.000000  49235.000000   \n",
       "\n",
       "       add_to_cart_order  reordered  \n",
       "count          59.000000  59.000000  \n",
       "mean            3.627119   0.694915  \n",
       "std             2.016298   0.464396  \n",
       "min             1.000000   0.000000  \n",
       "25%             2.000000   0.000000  \n",
       "50%             3.000000   1.000000  \n",
       "75%             5.000000   1.000000  \n",
       "max             9.000000   1.000000  "
      ]
     },
     "execution_count": 43,
     "metadata": {},
     "output_type": "execute_result"
    }
   ],
   "source": [
    "df_comb.describe()"
   ]
  },
  {
   "cell_type": "markdown",
   "id": "0a3f9965-60b6-4256-bda5-61873db46420",
   "metadata": {},
   "source": [
    "### 3. Merge data files"
   ]
  },
  {
   "cell_type": "code",
   "execution_count": 69,
   "id": "3364c7a5-5248-4ea3-9869-7137a14303a7",
   "metadata": {},
   "outputs": [],
   "source": [
    "# Merge df_comb with df_prod (shows observations in both dataframes, keeping all rows from df_comb)\n",
    "df_merged = df_comb.merge(df_prod, on = 'product_id', how = 'left')"
   ]
  },
  {
   "cell_type": "code",
   "execution_count": 90,
   "id": "b9f099c6-d1d9-45d8-a5b6-73c47b7ab077",
   "metadata": {},
   "outputs": [
    {
     "data": {
      "text/plain": [
       "_merge\n",
       "both          59\n",
       "left_only      0\n",
       "right_only     0\n",
       "Name: count, dtype: int64"
      ]
     },
     "execution_count": 90,
     "metadata": {},
     "output_type": "execute_result"
    }
   ],
   "source": [
    "# Sum up values in the merge column (confirm the results using the merge flag)\n",
    "df_merged['_merge'].value_counts()"
   ]
  },
  {
   "cell_type": "code",
   "execution_count": 94,
   "id": "d0c3336f-5ca6-461b-ad4a-7350fea67c3f",
   "metadata": {},
   "outputs": [],
   "source": [
    "# Export data to .csv -- df_merged_large.to_pickle(os.path.join(path, '02 Data','Prepared Data', 'orders_products_combined.csv'))\n",
    "df_merged.to_pickle(os.path.join(path, 'ords_prods_merge.pkl'))"
   ]
  },
  {
   "cell_type": "code",
   "execution_count": null,
   "id": "1b89c109-6d32-4013-ad6c-a6ccc12e2b7a",
   "metadata": {},
   "outputs": [],
   "source": []
  },
  {
   "cell_type": "code",
   "execution_count": null,
   "id": "483d7fc7-bbf0-4fc3-96aa-5f5e969b3985",
   "metadata": {
    "jupyter": {
     "source_hidden": true
    }
   },
   "outputs": [],
   "source": []
  }
 ],
 "metadata": {
  "kernelspec": {
   "display_name": "Python 3 (ipykernel)",
   "language": "python",
   "name": "python3"
  },
  "language_info": {
   "codemirror_mode": {
    "name": "ipython",
    "version": 3
   },
   "file_extension": ".py",
   "mimetype": "text/x-python",
   "name": "python",
   "nbconvert_exporter": "python",
   "pygments_lexer": "ipython3",
   "version": "3.12.3"
  }
 },
 "nbformat": 4,
 "nbformat_minor": 5
}
