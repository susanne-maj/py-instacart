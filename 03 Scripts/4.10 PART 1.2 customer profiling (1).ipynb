{
 "cells": [
  {
   "cell_type": "code",
   "execution_count": null,
   "id": "ad851d99-1025-4887-a5b9-39ee7c391854",
   "metadata": {},
   "outputs": [],
   "source": [
    "# 1. Import libraries and data frame.\n",
    "# 2. Ran statistical checks to see what makes sense to report on."
   ]
  },
  {
   "cell_type": "code",
   "execution_count": 2,
   "id": "b45b3d5a-2ce1-4221-a65a-381ee192526d",
   "metadata": {},
   "outputs": [],
   "source": [
    "# Import libraries, the last three for data visualizations\n",
    "import pandas as pd\n",
    "import numpy as np\n",
    "import os\n",
    "import matplotlib.pyplot as plt\n",
    "import seaborn as sns\n",
    "import scipy"
   ]
  },
  {
   "cell_type": "code",
   "execution_count": 3,
   "id": "8dfd556b-2287-475b-bc54-7d51383b1052",
   "metadata": {},
   "outputs": [],
   "source": [
    "# define path\n",
    "path = r'C:\\Users\\Administrator\\Documents\\data analytics\\Instacart Basket Analysis\\02 Data\\Prepared data'"
   ]
  },
  {
   "cell_type": "code",
   "execution_count": 4,
   "id": "63d26198-b348-4030-97e1-4fb64dca054d",
   "metadata": {},
   "outputs": [],
   "source": [
    "# import ords_prods_custs. I call it opc to have a short name.\n",
    "opc_filt = pd.read_pickle(os.path.join(path, 'ord-prod-cust_filtered.pkl'))"
   ]
  },
  {
   "cell_type": "code",
   "execution_count": 5,
   "id": "da39658d-9395-4f20-832e-6df6c262beb0",
   "metadata": {},
   "outputs": [
    {
     "data": {
      "text/html": [
       "<div>\n",
       "<style scoped>\n",
       "    .dataframe tbody tr th:only-of-type {\n",
       "        vertical-align: middle;\n",
       "    }\n",
       "\n",
       "    .dataframe tbody tr th {\n",
       "        vertical-align: top;\n",
       "    }\n",
       "\n",
       "    .dataframe thead th {\n",
       "        text-align: right;\n",
       "    }\n",
       "</style>\n",
       "<table border=\"1\" class=\"dataframe\">\n",
       "  <thead>\n",
       "    <tr style=\"text-align: right;\">\n",
       "      <th></th>\n",
       "      <th>order_id</th>\n",
       "      <th>user_id</th>\n",
       "      <th>order_number</th>\n",
       "      <th>orders_day_of_week</th>\n",
       "      <th>order_hour_of_day</th>\n",
       "      <th>days_since_prior_order</th>\n",
       "      <th>validation</th>\n",
       "      <th>product_id</th>\n",
       "      <th>add_to_cart_order</th>\n",
       "      <th>reordered</th>\n",
       "      <th>...</th>\n",
       "      <th>frequency_flag</th>\n",
       "      <th>gender</th>\n",
       "      <th>state</th>\n",
       "      <th>age</th>\n",
       "      <th>date_joined</th>\n",
       "      <th>n_dependants</th>\n",
       "      <th>fam_status</th>\n",
       "      <th>income</th>\n",
       "      <th>region</th>\n",
       "      <th>Exclude</th>\n",
       "    </tr>\n",
       "  </thead>\n",
       "  <tbody>\n",
       "    <tr>\n",
       "      <th>0</th>\n",
       "      <td>2539329</td>\n",
       "      <td>1</td>\n",
       "      <td>1</td>\n",
       "      <td>2</td>\n",
       "      <td>8</td>\n",
       "      <td>NaN</td>\n",
       "      <td>prior</td>\n",
       "      <td>196.0</td>\n",
       "      <td>1.0</td>\n",
       "      <td>0.0</td>\n",
       "      <td>...</td>\n",
       "      <td>NaN</td>\n",
       "      <td>Female</td>\n",
       "      <td>Alabama</td>\n",
       "      <td>31</td>\n",
       "      <td>2/17/2019</td>\n",
       "      <td>3</td>\n",
       "      <td>married</td>\n",
       "      <td>40423</td>\n",
       "      <td>South</td>\n",
       "      <td>False</td>\n",
       "    </tr>\n",
       "    <tr>\n",
       "      <th>1</th>\n",
       "      <td>2539329</td>\n",
       "      <td>1</td>\n",
       "      <td>1</td>\n",
       "      <td>2</td>\n",
       "      <td>8</td>\n",
       "      <td>NaN</td>\n",
       "      <td>prior</td>\n",
       "      <td>14084.0</td>\n",
       "      <td>2.0</td>\n",
       "      <td>0.0</td>\n",
       "      <td>...</td>\n",
       "      <td>NaN</td>\n",
       "      <td>Female</td>\n",
       "      <td>Alabama</td>\n",
       "      <td>31</td>\n",
       "      <td>2/17/2019</td>\n",
       "      <td>3</td>\n",
       "      <td>married</td>\n",
       "      <td>40423</td>\n",
       "      <td>South</td>\n",
       "      <td>False</td>\n",
       "    </tr>\n",
       "  </tbody>\n",
       "</table>\n",
       "<p>2 rows × 33 columns</p>\n",
       "</div>"
      ],
      "text/plain": [
       "   order_id  user_id  order_number  orders_day_of_week  order_hour_of_day  \\\n",
       "0   2539329        1             1                   2                  8   \n",
       "1   2539329        1             1                   2                  8   \n",
       "\n",
       "   days_since_prior_order validation  product_id  add_to_cart_order  \\\n",
       "0                     NaN      prior       196.0                1.0   \n",
       "1                     NaN      prior     14084.0                2.0   \n",
       "\n",
       "   reordered  ... frequency_flag  gender    state  age  date_joined  \\\n",
       "0        0.0  ...            NaN  Female  Alabama   31    2/17/2019   \n",
       "1        0.0  ...            NaN  Female  Alabama   31    2/17/2019   \n",
       "\n",
       "  n_dependants fam_status income  region  Exclude  \n",
       "0            3    married  40423   South    False  \n",
       "1            3    married  40423   South    False  \n",
       "\n",
       "[2 rows x 33 columns]"
      ]
     },
     "execution_count": 5,
     "metadata": {},
     "output_type": "execute_result"
    }
   ],
   "source": [
    "opc_filt.head(2) # Quick check of files"
   ]
  },
  {
   "cell_type": "code",
   "execution_count": 6,
   "id": "dd3e6a4a-afe5-4093-89f2-690e2bc58e39",
   "metadata": {},
   "outputs": [
    {
     "data": {
      "text/plain": [
       "array([31, 68, 33, 75, 39, 34, 73, 46, 51, 66, 69, 36, 58, 62, 47, 71, 78,\n",
       "       37, 59, 81, 54, 28, 38, 80, 43, 76, 57, 27, 48, 70, 41, 53, 25, 22,\n",
       "       67, 64, 19, 29, 65, 49, 45, 74, 50, 32, 26, 79, 30, 72, 18, 60, 77,\n",
       "       52, 55, 24, 44, 42, 61, 63, 40, 21, 20, 56, 35, 23], dtype=int64)"
      ]
     },
     "execution_count": 6,
     "metadata": {},
     "output_type": "execute_result"
    }
   ],
   "source": [
    "# Check distribution of age to understand how to profile customers\n",
    "opc_filt['age'].unique()"
   ]
  },
  {
   "cell_type": "code",
   "execution_count": 7,
   "id": "01f69290-6f0c-4a46-b19b-924bd08d42aa",
   "metadata": {},
   "outputs": [
    {
     "name": "stdout",
     "output_type": "stream",
     "text": [
      "Index(['order_id', 'user_id', 'order_number', 'orders_day_of_week',\n",
      "       'order_hour_of_day', 'days_since_prior_order', 'validation',\n",
      "       'product_id', 'add_to_cart_order', 'reordered', '_merge',\n",
      "       'product_name', 'aisle_id', 'department_id', 'prices',\n",
      "       'price_range_loc', 'busiest day', 'busiest_hour', 'max_order',\n",
      "       'average_price', 'spending_flag', 'loyalty_flag', 'avg_price',\n",
      "       'frequency_flag', 'gender', 'state', 'age', 'date_joined',\n",
      "       'n_dependants', 'fam_status', 'income', 'region', 'Exclude'],\n",
      "      dtype='object')\n"
     ]
    }
   ],
   "source": [
    "print(opc_filt.columns)"
   ]
  },
  {
   "cell_type": "code",
   "execution_count": 8,
   "id": "6d1a75dc-ec79-4c23-af4e-67ec24929761",
   "metadata": {},
   "outputs": [
    {
     "data": {
      "text/plain": [
       "array([ 7., 16., 19., 17.,  4., 14., 13., nan, 20.,  1., 11., 12.,  6.,\n",
       "        3., 15.,  9.,  5.,  8.,  2., 21., 18., 10.])"
      ]
     },
     "execution_count": 8,
     "metadata": {},
     "output_type": "execute_result"
    }
   ],
   "source": [
    "opc_filt['department_id'].unique()"
   ]
  },
  {
   "cell_type": "code",
   "execution_count": 9,
   "id": "dfad501f-cc2a-4f09-8dd2-7731cef9a7fd",
   "metadata": {},
   "outputs": [
    {
     "data": {
      "text/plain": [
       "array(['Soda', 'Organic Unsweetened Vanilla Almond Milk',\n",
       "       'Original Beef Jerky', ..., 'Orange Energy Shots',\n",
       "       'Ultragrain Tortillas 8 Taco Size',\n",
       "       'Hot Oatmeal Multigrain Raisin'], dtype=object)"
      ]
     },
     "execution_count": 9,
     "metadata": {},
     "output_type": "execute_result"
    }
   ],
   "source": [
    "opc_filt['product_name'].unique()"
   ]
  },
  {
   "cell_type": "code",
   "execution_count": 10,
   "id": "75c331cd-0134-4b5d-ae10-738a208ada67",
   "metadata": {},
   "outputs": [
    {
     "data": {
      "text/plain": [
       "array([  196., 14084., 12427., ..., 43553., 42050., 28818.])"
      ]
     },
     "execution_count": 10,
     "metadata": {},
     "output_type": "execute_result"
    }
   ],
   "source": [
    "opc_filt['product_id'].unique()"
   ]
  },
  {
   "cell_type": "code",
   "execution_count": 82,
   "id": "524868e4-d396-4ba4-9c53-cdc0d80a2086",
   "metadata": {},
   "outputs": [],
   "source": [
    "# New column for income group defining low, medium or high income level\n",
    "\n",
    "opc_filt.loc[opc_filt['income'] <= 30000, 'income group'] = 'Low'\n",
    "opc_filt.loc[(opc_filt['income'] > 30000) & (opc_filt['income'] <= 70000), 'income group'] = 'Medium'\n",
    "opc_filt.loc[opc_filt['income'] > 70000, 'income group'] = 'High'"
   ]
  },
  {
   "cell_type": "code",
   "execution_count": 83,
   "id": "b3f171d5-dca4-43dc-9fdd-77ca927cd544",
   "metadata": {},
   "outputs": [
    {
     "data": {
      "text/plain": [
       "array(['Medium', 'High', 'Low'], dtype=object)"
      ]
     },
     "execution_count": 83,
     "metadata": {},
     "output_type": "execute_result"
    }
   ],
   "source": [
    "opc_filt['income group'].unique()"
   ]
  },
  {
   "cell_type": "code",
   "execution_count": 81,
   "id": "da5a3662-2e23-49b6-9688-97703c794e04",
   "metadata": {},
   "outputs": [],
   "source": [
    "# New column for age group defining Young, Adult or Senior age group\n",
    "\n",
    "opc_filt.loc[opc_filt['age'] <= 20, 'Age Group'] = 'Young'\n",
    "opc_filt.loc[(opc_filt['age'] > 21) & (opc_filt['age'] <= 55), 'Age Group'] = 'Adult'\n",
    "opc_filt.loc[opc_filt['age'] > 60, 'Age Group'] = 'Senior'"
   ]
  },
  {
   "cell_type": "code",
   "execution_count": 77,
   "id": "751bc686-8f8c-497b-bf87-ba76da5d9d9a",
   "metadata": {},
   "outputs": [
    {
     "data": {
      "text/plain": [
       "array(['Adult', 'Senior', nan, 'Young'], dtype=object)"
      ]
     },
     "execution_count": 77,
     "metadata": {},
     "output_type": "execute_result"
    }
   ],
   "source": [
    "opc_filt['Age Group'].unique()"
   ]
  },
  {
   "cell_type": "code",
   "execution_count": 84,
   "id": "7e38f1e8-f66b-4f99-91ee-0d49683de2a0",
   "metadata": {},
   "outputs": [],
   "source": [
    "opc_filt.loc[opc_filt['n_dependants'] > 0, 'dependants flag'] = 'Yes'\n",
    "opc_filt.loc[opc_filt['n_dependants'] <= 0, 'dependants flag'] = 'No'\n",
    "\n"
   ]
  },
  {
   "cell_type": "code",
   "execution_count": 85,
   "id": "0b7ca7eb-48a4-48ba-9a69-24b6c2d3925d",
   "metadata": {},
   "outputs": [
    {
     "data": {
      "text/plain": [
       "array(['Yes', 'No'], dtype=object)"
      ]
     },
     "execution_count": 85,
     "metadata": {},
     "output_type": "execute_result"
    }
   ],
   "source": [
    "opc_filt['dependants flag'].unique()"
   ]
  },
  {
   "cell_type": "code",
   "execution_count": 88,
   "id": "e703ee52-df42-40be-aead-5f5b8c23f46b",
   "metadata": {},
   "outputs": [],
   "source": [
    "# Start with a default profile\n",
    "opc_filt['shopper_profile'] = 'Other'\n",
    "\n",
    "# Convenience shopper: soda, beef, chips, frozen etc.\n",
    "opc_filt.loc[\n",
    "    opc_filt['product_name'].str.contains('soda|beef|chips|frozen|pizza', case=False, na=False),\n",
    "    'shopper_profile'\n",
    "] = 'Convenience Shopper'\n",
    "\n",
    "# Healthy eater: energy bars, organic, vitamins, kale, smoothie\n",
    "opc_filt.loc[\n",
    "    opc_filt['product_name'].str.contains('organic|energy|vitamin|kale|smoothie', case=False, na=False),\n",
    "    'shopper_profile'\n",
    "] = 'Healthy Eater'\n",
    "\n",
    "# Sweet tooth: candy, chocolate, ice cream\n",
    "opc_filt.loc[\n",
    "    opc_filt['product_name'].str.contains('candy|chocolate|ice cream|cookie', case=False, na=False),\n",
    "    'shopper_profile'\n",
    "] = 'Sweet Tooth'\n",
    "\n"
   ]
  },
  {
   "cell_type": "code",
   "execution_count": 90,
   "id": "8a0fb77a-eb7b-42e9-848c-8955eb0a0c67",
   "metadata": {},
   "outputs": [
    {
     "data": {
      "text/plain": [
       "array(['Soda', 'Organic Unsweetened Vanilla Almond Milk',\n",
       "       'Original Beef Jerky', ..., 'Orange Energy Shots',\n",
       "       'Ultragrain Tortillas 8 Taco Size',\n",
       "       'Hot Oatmeal Multigrain Raisin'], dtype=object)"
      ]
     },
     "execution_count": 90,
     "metadata": {},
     "output_type": "execute_result"
    }
   ],
   "source": [
    "opc_filt['product_name'].unique()"
   ]
  },
  {
   "cell_type": "code",
   "execution_count": 91,
   "id": "a5300c15-2805-46bb-946f-44ef6a2a38a8",
   "metadata": {},
   "outputs": [
    {
     "data": {
      "text/plain": [
       "1202099"
      ]
     },
     "execution_count": 91,
     "metadata": {},
     "output_type": "execute_result"
    }
   ],
   "source": [
    "opc_filt['shopper_profile'].value_counts().loc['Sweet Tooth']"
   ]
  },
  {
   "cell_type": "code",
   "execution_count": null,
   "id": "8ba8b8fb-95e3-4109-a0a7-9848cece80d0",
   "metadata": {},
   "outputs": [],
   "source": []
  },
  {
   "cell_type": "code",
   "execution_count": null,
   "id": "c1d01fa0-6bce-4260-9a94-373857d111e7",
   "metadata": {},
   "outputs": [],
   "source": []
  }
 ],
 "metadata": {
  "kernelspec": {
   "display_name": "Python 3 (ipykernel)",
   "language": "python",
   "name": "python3"
  },
  "language_info": {
   "codemirror_mode": {
    "name": "ipython",
    "version": 3
   },
   "file_extension": ".py",
   "mimetype": "text/x-python",
   "name": "python",
   "nbconvert_exporter": "python",
   "pygments_lexer": "ipython3",
   "version": "3.12.7"
  }
 },
 "nbformat": 4,
 "nbformat_minor": 5
}
